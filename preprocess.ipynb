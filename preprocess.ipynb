{
 "cells": [
  {
   "cell_type": "code",
   "execution_count": null,
   "id": "6374cf54",
   "metadata": {},
   "outputs": [],
   "source": [
    "import pandas as pd"
   ]
  },
  {
   "cell_type": "code",
   "execution_count": null,
   "id": "605ff975",
   "metadata": {},
   "outputs": [],
   "source": [
    "dataset = pd.read_csv(r\"C:\\Users\\Asus\\Desktop\\QUERA\\output.csv\")\n",
    "df = pd.read_csv(r\"C:\\Users\\Asus\\Desktop\\QUERA\\output_.csv\")"
   ]
  },
  {
   "cell_type": "code",
   "execution_count": null,
   "id": "736b537f",
   "metadata": {},
   "outputs": [],
   "source": [
    "dataset = dataset.rename(columns={'Life Expectancy at Birth, both sexes (years)_transformed': 'target'})"
   ]
  },
  {
   "cell_type": "code",
   "execution_count": null,
   "id": "209c36c7",
   "metadata": {},
   "outputs": [],
   "source": [
    "dataset.head()"
   ]
  },
  {
   "cell_type": "code",
   "execution_count": null,
   "id": "343e10b9",
   "metadata": {
    "scrolled": false
   },
   "outputs": [],
   "source": [
    "df.head()"
   ]
  },
  {
   "cell_type": "code",
   "execution_count": null,
   "id": "328a4023",
   "metadata": {},
   "outputs": [],
   "source": [
    "del df['Region, subregion, country or area *']\n",
    "del df['Type']\n",
    "del df['Year']"
   ]
  },
  {
   "cell_type": "code",
   "execution_count": null,
   "id": "bdf958a6",
   "metadata": {},
   "outputs": [],
   "source": [
    "df"
   ]
  },
  {
   "cell_type": "code",
   "execution_count": null,
   "id": "ecbf2542",
   "metadata": {},
   "outputs": [],
   "source": [
    "df = df.add_suffix('_transformed')"
   ]
  },
  {
   "cell_type": "code",
   "execution_count": null,
   "id": "aac2be96",
   "metadata": {},
   "outputs": [],
   "source": [
    "dataset = dataset.rename(columns={'Life Expectancy at Birth, both sexes (years)_transformed': 'target'})"
   ]
  },
  {
   "cell_type": "code",
   "execution_count": null,
   "id": "82cab3f9",
   "metadata": {},
   "outputs": [],
   "source": [
    "dataset.shape"
   ]
  },
  {
   "cell_type": "code",
   "execution_count": null,
   "id": "403e2bd8",
   "metadata": {},
   "outputs": [],
   "source": [
    "df.shape"
   ]
  },
  {
   "cell_type": "code",
   "execution_count": null,
   "id": "f4aa5385",
   "metadata": {},
   "outputs": [],
   "source": [
    "data = dataset.sample(frac=0.9, random_state=789)\n",
    "data_unseen = dataset.drop(data.index)\n",
    "\n",
    "data.reset_index(drop=True, inplace=True)\n",
    "data_unseen.reset_index(drop=True, inplace=True)\n",
    "\n",
    "print('Data for Modeling: ' + str(data.shape))\n",
    "print('Unseen Data For Predictions ' + str(data_unseen.shape))"
   ]
  },
  {
   "cell_type": "code",
   "execution_count": null,
   "id": "0373dc3c",
   "metadata": {
    "scrolled": true
   },
   "outputs": [],
   "source": [
    "from pycaret.regression import *\n",
    "reg = setup(data = data, target = 'target', session_id = 123)"
   ]
  },
  {
   "cell_type": "code",
   "execution_count": null,
   "id": "0ef0ec4b",
   "metadata": {},
   "outputs": [],
   "source": [
    "best = compare_models(exclude = ['ransac'])"
   ]
  },
  {
   "cell_type": "code",
   "execution_count": null,
   "id": "012271ec",
   "metadata": {},
   "outputs": [],
   "source": [
    "models()"
   ]
  },
  {
   "cell_type": "code",
   "execution_count": null,
   "id": "04e00b9b",
   "metadata": {},
   "outputs": [],
   "source": [
    "et = create_model('et', fold = 5)"
   ]
  },
  {
   "cell_type": "code",
   "execution_count": null,
   "id": "eacf9f4c",
   "metadata": {
    "scrolled": true
   },
   "outputs": [],
   "source": [
    "print(et)"
   ]
  },
  {
   "cell_type": "code",
   "execution_count": null,
   "id": "9a73329f",
   "metadata": {},
   "outputs": [],
   "source": [
    "bagged_et = ensemble_model(et)"
   ]
  },
  {
   "cell_type": "code",
   "execution_count": null,
   "id": "427bffb2",
   "metadata": {},
   "outputs": [],
   "source": [
    "final_bagged_et = finalize_model(bagged_et)"
   ]
  },
  {
   "cell_type": "code",
   "execution_count": null,
   "id": "737ac816",
   "metadata": {},
   "outputs": [],
   "source": [
    "print(final_bagged_et)"
   ]
  },
  {
   "cell_type": "code",
   "execution_count": null,
   "id": "beb3de70",
   "metadata": {},
   "outputs": [],
   "source": [
    "plot_model(final_bagged_et, plot = 'residuals')"
   ]
  },
  {
   "cell_type": "code",
   "execution_count": null,
   "id": "05c2d5ec",
   "metadata": {},
   "outputs": [],
   "source": [
    "predict_model(final_bagged_et);"
   ]
  },
  {
   "cell_type": "code",
   "execution_count": null,
   "id": "b259db99",
   "metadata": {
    "scrolled": true
   },
   "outputs": [],
   "source": [
    "unseen_predictions = predict_model(final_bagged_et, data=data_unseen)\n",
    "unseen_predictions.head()"
   ]
  },
  {
   "cell_type": "code",
   "execution_count": null,
   "id": "814e630e",
   "metadata": {},
   "outputs": [],
   "source": [
    "from pycaret.utils import check_metric\n",
    "check_metric(unseen_predictions.target, unseen_predictions.Label, 'R2')"
   ]
  },
  {
   "cell_type": "code",
   "execution_count": null,
   "id": "1b5e04c3",
   "metadata": {},
   "outputs": [],
   "source": [
    "save_model(final_bagged_et, 'Final Bagged Et Model')"
   ]
  },
  {
   "cell_type": "code",
   "execution_count": null,
   "id": "3143f9bf",
   "metadata": {
    "scrolled": false
   },
   "outputs": [],
   "source": [
    "saved_final_bagged_et = load_model('Final Bagged Et Model')"
   ]
  },
  {
   "cell_type": "code",
   "execution_count": null,
   "id": "a9ef55ef",
   "metadata": {
    "scrolled": true
   },
   "outputs": [],
   "source": [
    "new_prediction = predict_model(saved_final_bagged_et, data=df)"
   ]
  },
  {
   "cell_type": "code",
   "execution_count": null,
   "id": "b4a4e230",
   "metadata": {
    "scrolled": true
   },
   "outputs": [],
   "source": [
    "new_prediction.head()"
   ]
  },
  {
   "cell_type": "code",
   "execution_count": null,
   "id": "3749fcb2",
   "metadata": {},
   "outputs": [],
   "source": [
    "from pycaret.utils import check_metric\n",
    "check_metric(new_prediction.target, new_prediction.Label, 'R2')"
   ]
  }
 ],
 "metadata": {
  "kernelspec": {
   "display_name": "Python 3 (ipykernel)",
   "language": "python",
   "name": "python3"
  },
  "language_info": {
   "codemirror_mode": {
    "name": "ipython",
    "version": 3
   },
   "file_extension": ".py",
   "mimetype": "text/x-python",
   "name": "python",
   "nbconvert_exporter": "python",
   "pygments_lexer": "ipython3",
   "version": "3.8.13"
  }
 },
 "nbformat": 4,
 "nbformat_minor": 5
}
